{
 "cells": [
  {
   "cell_type": "code",
   "execution_count": null,
   "metadata": {
    "scrolled": true
   },
   "outputs": [],
   "source": [
    "# REF: 一件有趣的事：用Python 爬了爬自己的微信朋友\n",
    "# https://mp.weixin.qq.com/s/0Bw8QUo1YfWZR_Boeaxu_Q\n",
    "# 安装: sudo pip3 install itchat\n",
    "# https://github.com/littlecodersh/ItChat\n",
    "import itchat\n",
    "# 扫二维码登录\n",
    "itchat.login()"
   ]
  },
  {
   "cell_type": "code",
   "execution_count": null,
   "metadata": {
    "collapsed": true
   },
   "outputs": [],
   "source": [
    "friends = itchat.get_friends(update=True)[0:]"
   ]
  },
  {
   "cell_type": "code",
   "execution_count": null,
   "metadata": {
    "collapsed": true,
    "scrolled": false
   },
   "outputs": [],
   "source": [
    "#friends[::-1]"
   ]
  },
  {
   "cell_type": "code",
   "execution_count": null,
   "metadata": {},
   "outputs": [],
   "source": [
    "for friend in friends[::-1]:\n",
    "    print('{: <15}'.format(friend.NickName),\"\\t\", '{: <15}'.format(friend.Province), \"\\t\", friend.Signature, \"\\n\", friend.UserName)"
   ]
  },
  {
   "cell_type": "code",
   "execution_count": null,
   "metadata": {},
   "outputs": [],
   "source": [
    "itchat.send('Hello', toUserName='filehelper')#filehelper"
   ]
  },
  {
   "cell_type": "code",
   "execution_count": null,
   "metadata": {
    "collapsed": true
   },
   "outputs": [],
   "source": [
    "import time\n",
    "for i in range(100):\n",
    "    itchat.send(\"来100条? 还剩\"+str(99-i)+\"条\", toUserName='@8c268f9e4700a2cc0804a49045818db3')\n",
    "    time.sleep(1)"
   ]
  },
  {
   "cell_type": "code",
   "execution_count": null,
   "metadata": {},
   "outputs": [],
   "source": [
    "itchat.send(\"Sorry\", toUserName='@56b4ef1e0bed620e243fa5ed607035d8')"
   ]
  },
  {
   "cell_type": "code",
   "execution_count": null,
   "metadata": {
    "collapsed": true
   },
   "outputs": [],
   "source": []
  }
 ],
 "metadata": {
  "kernelspec": {
   "display_name": "Python 3",
   "language": "python",
   "name": "python3"
  },
  "language_info": {
   "codemirror_mode": {
    "name": "ipython",
    "version": 3
   },
   "file_extension": ".py",
   "mimetype": "text/x-python",
   "name": "python",
   "nbconvert_exporter": "python",
   "pygments_lexer": "ipython3",
   "version": "3.5.3"
  }
 },
 "nbformat": 4,
 "nbformat_minor": 2
}
