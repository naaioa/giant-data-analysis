{
 "cells": [
  {
   "cell_type": "code",
   "execution_count": 1,
   "metadata": {
    "collapsed": true
   },
   "outputs": [],
   "source": [
    "import paho.mqtt.publish as publish"
   ]
  },
  {
   "cell_type": "markdown",
   "metadata": {},
   "source": [
    "# 1 single\n",
    "\n",
    "Publish a single message to a broker, then disconnect cleanly.\n",
    "\n",
    "    single(topic, payload=None, qos=0, retain=False, hostname=\"localhost\",\n",
    "        port=1883, client_id=\"\", keepalive=60, will=None, auth=None, tls=None,\n",
    "        protocol=mqtt.MQTTv31)\n",
    "    \n",
    "\n",
    "+ topic\n",
    "\n",
    "the only required argument must be the topic string to which the payload will be published.\n",
    "+ payload\n",
    "\n",
    "the payload to be published. If \"\" or None, a zero length payload will be published.\n",
    "+ qos\n",
    "\n",
    "the qos to use when publishing, default to 0.\n",
    "+ retain\n",
    "\n",
    "set the message to be retained (True) or not (False).\n",
    "+ hostname\n",
    "\n",
    "a string containing the address of the broker to connect to. Defaults to localhost.\n",
    "+ port\n",
    "\n",
    "the port to connect to the broker on. Defaults to 1883.\n",
    "+ client_id\n",
    "\n",
    "the MQTT client id to use. If \"\" or None, the Paho library will generate a client id automatically.\n",
    "+ keepalive\n",
    "\n",
    "the keepalive timeout value for the client. Defaults to 60 seconds.\n",
    "+ will\n",
    "\n",
    "a dict containing will parameters for the client:\n",
    "\n",
    "will = {'topic': \"<topic>\", 'payload':\"<payload\">, 'qos':<qos>, 'retain':<retain>}.\n",
    "\n",
    "Topic is required, all other parameters are optional and will default to None, 0 and False respectively.\n",
    "\n",
    "Defaults to None, which indicates no will should be used.\n",
    "\n",
    "+ auth\n",
    "a dict containing authentication parameters for the client:\n",
    "\n",
    "auth = {'username':\"<username>\", 'password':\"<password>\"}\n",
    "\n",
    "Username is required, password is optional and will default to None if not provided.\n",
    "\n",
    "Defaults to None, which indicates no authentication is to be used.\n",
    "\n",
    "+ tls\n",
    "\n",
    "a dict containing TLS configuration parameters for the client:\n",
    "\n",
    "dict = {'ca_certs':\"<ca_certs>\", 'certfile':\"<certfile>\", 'keyfile':\"<keyfile>\", 'tls_version':\"<tls_version>\", 'ciphers':\"<ciphers\">}\n",
    "\n",
    "ca_certs is required, all other parameters are optional and will default to None if not provided, which results in the client using the default behaviour - see the paho.mqtt.client documentation.\n",
    "\n",
    "Defaults to None, which indicates that TLS should not be used.\n",
    "\n",
    "+ protocol\n",
    "\n",
    "choose the version of the MQTT protocol to use. Use either MQTTv31 or MQTTv311.    \n"
   ]
  },
  {
   "cell_type": "code",
   "execution_count": 3,
   "metadata": {},
   "outputs": [],
   "source": [
    "import paho.mqtt.client as mqtt\n",
    "publish.single(\"/mqtt/paho/python/oneshot/\", \"one shot\", hostname=\"localhost\", protocol=mqtt.MQTTv311)"
   ]
  },
  {
   "cell_type": "markdown",
   "metadata": {},
   "source": [
    "# 2 multiple\n",
    "\n",
    "Publish multiple messages to a broker, then disconnect cleanly.\n",
    "\n",
    "    multiple(msgs, hostname=\"localhost\", port=1883, client_id=\"\", keepalive=60,\n",
    "        will=None, auth=None, tls=None, protocol=mqtt.MQTTv31)\n",
    "\n",
    "+ msgs\n",
    "\n",
    "a list of messages to publish. Each message is either a dict or a tuple.\n",
    "\n",
    "If a **dict**, only the topic must be present. Default values will be used for any missing arguments. The dict must be of the form:\n",
    "\n",
    "msg = {'topic':\"<topic>\", 'payload':\"<payload>\", 'qos':<qos>, 'retain':<retain>}\n",
    "\n",
    "topic must be present and may not be empty. If payload is \"\", None or not present then a zero length payload will be published. If qos is not present, the default of 0 is used. If retain is not present, the default of False is used.\n",
    "\n",
    "If a **tuple**, then it must be of the form:\n",
    "\n",
    "(\"<topic>\", \"<payload>\", qos, retain)\n",
    "\n",
    "See `single()` for the description of hostname, port, client_id, keepalive, will, auth, tls, protocol."
   ]
  },
  {
   "cell_type": "code",
   "execution_count": 4,
   "metadata": {
    "collapsed": true
   },
   "outputs": [],
   "source": [
    "msgs = [{'topic':\"/mqtt/paho/python/oneshot/\", 'payload':\"oneshot 1\"},\n",
    "    (\"/mqtt/paho/python/oneshot/\", \"oneshot 2\", 0, False)]\n",
    "publish.multiple(msgs, hostname=\"localhost\")"
   ]
  },
  {
   "cell_type": "code",
   "execution_count": null,
   "metadata": {
    "collapsed": true
   },
   "outputs": [],
   "source": []
  }
 ],
 "metadata": {
  "kernelspec": {
   "display_name": "Python 3",
   "language": "python",
   "name": "python3"
  },
  "language_info": {
   "codemirror_mode": {
    "name": "ipython",
    "version": 3
   },
   "file_extension": ".py",
   "mimetype": "text/x-python",
   "name": "python",
   "nbconvert_exporter": "python",
   "pygments_lexer": "ipython3",
   "version": "3.5.3"
  }
 },
 "nbformat": 4,
 "nbformat_minor": 2
}
