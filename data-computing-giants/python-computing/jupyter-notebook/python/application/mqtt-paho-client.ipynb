{
 "cells": [
  {
   "cell_type": "markdown",
   "metadata": {},
   "source": [
    "# 涉及内容\n",
    "\n",
    "\n",
    "http://www.eclipse.org/paho/clients/python/docs\n",
    "\n",
    "\n",
    "    01 客户端构造和重初始化\n",
    "    02 客户端选项设置\n",
    "    03 连接, 重连接和断开连接\n",
    "    04 网络循环\n",
    "    05 发布\n",
    "    06 订阅, 取消订阅\n",
    "    07 回调\n",
    "    08 外部事件循环支持\n",
    "    09 全局帮助函数\n"
   ]
  },
  {
   "cell_type": "code",
   "execution_count": 1,
   "metadata": {
    "collapsed": true
   },
   "outputs": [],
   "source": [
    "import paho.mqtt.client as mqtt"
   ]
  },
  {
   "cell_type": "code",
   "execution_count": 2,
   "metadata": {
    "collapsed": true
   },
   "outputs": [],
   "source": [
    "# 创建客户端\n",
    "# Client(client_id=\"\", clean_session=True, userdata=None, protocol=MQTTv31)\n",
    "# \n",
    "# client_id: the unique client id string used when connecting to the broker. \n",
    "# If client_id is zero length or None, then one will be randomly generated. \n",
    "# In this case the clean_session parameter must be True.\n",
    "# \n",
    "# clean_session: a boolean that determines the client type. \n",
    "# If True, the broker will remove all information about this client when it disconnects. \n",
    "# If False, the client is a durable client and subscription information and queued messages will \n",
    "# be retained when the client disconnects.\n",
    "# \n",
    "# Note that a client will never discard its own outgoing messages on disconnect. \n",
    "# Calling connect() or reconnect() will cause the messages to be resent. \n",
    "# Use reinitialise() to reset a client to its original state.\n",
    "# \n",
    "# userdata: user defined data of any type that is passed as the userdata parameter to callbacks. \n",
    "# It may be updated at a later point with the user_data_set() function.\n",
    "# \n",
    "# protocol: the version of the MQTT protocol to use for this client. Can be either MQTTv31 or MQTTv311\n",
    "client = mqtt.Client(client_id=\"\", clean_session=True, userdata=None, protocol=mqtt.MQTTv31)"
   ]
  },
  {
   "cell_type": "code",
   "execution_count": 3,
   "metadata": {
    "collapsed": true
   },
   "outputs": [],
   "source": [
    "# 客户端选项设置\n",
    "client.user_data_set(\"Hello data\")"
   ]
  },
  {
   "cell_type": "code",
   "execution_count": 4,
   "metadata": {},
   "outputs": [
    {
     "data": {
      "text/plain": [
       "0"
      ]
     },
     "execution_count": 4,
     "metadata": {},
     "output_type": "execute_result"
    }
   ],
   "source": [
    "# 连接\n",
    "# connect(host, port=1883, keepalive=60, bind_address=\"\")\n",
    "# \n",
    "# host: the hostname or IP address of the remote broker\n",
    "# \n",
    "# port: the network port of the server host to connect to. Defaults to 1883. \n",
    "# Note that the default port for MQTT over SSL/TLS is 8883 so if you are \n",
    "# using tls_set() the port may need providing manually\n",
    "# \n",
    "# keepalive: maximum period in seconds allowed between communications with the broker. \n",
    "# If no other messages are being exchanged, this controls the rate at which the client \n",
    "# will send ping messages to the broker\n",
    "# \n",
    "# bind_address: the IP address of a local network interface to bind this client to,\n",
    "# assuming multiple interfaces exist\n",
    "client.connect(host='localhost', port=1883, keepalive=60, bind_address=\"\")\n"
   ]
  },
  {
   "cell_type": "code",
   "execution_count": 5,
   "metadata": {
    "collapsed": true
   },
   "outputs": [],
   "source": [
    "# 回调\n",
    "# on_connect(client, userdata, rc) # WRONG!!!\n",
    "# on_disconnect(client, userdata, rc) # WRONG!!!\n",
    "# on_message(client, userdata, message)\n",
    "# on_publish(client, userdata, mid) # the mid variable returned from the corresponding publish() call\n",
    "# on_subscribe(client, userdata, mid, granted_qos)\n",
    "# on_unsubscribe(client, userdata, mid)\n",
    "# on_log(client, userdata, level, buf)\n",
    "\n",
    "\n",
    "\n",
    "def on_connect(client, userdata, flags, rc):\n",
    "    print(\"Connected with result code \"+str(rc))\n",
    "    \n",
    "def on_message(client, userdata, msg):\n",
    "    print(msg.topic+\" \"+str(msg.payload))    \n",
    "\n",
    "client.on_connect = on_connect\n",
    "client.on_message = on_message"
   ]
  },
  {
   "cell_type": "code",
   "execution_count": 6,
   "metadata": {},
   "outputs": [
    {
     "data": {
      "text/plain": [
       "<paho.mqtt.client.MQTTMessageInfo at 0x105e14188>"
      ]
     },
     "execution_count": 6,
     "metadata": {},
     "output_type": "execute_result"
    }
   ],
   "source": [
    "# 发布\n",
    "# publish(topic, payload=None, qos=0, retain=False)\n",
    "# topic: the topic that the message should be published on\n",
    "# payload: the actual message to send. If not given, or set to None a zero length message will be used. \n",
    "# Passing an int or float will result in the payload being converted to a string representing that number. \n",
    "# If you wish to send a true int/float, use struct.pack() to create the payload you require\n",
    "# \n",
    "# qos: the quality of service level to use\n",
    "# \n",
    "# retain: if set to True, the message will be set as the \"last known good\"/retained message for the topic.\n",
    "client.publish(topic='/mqtt/paho/python/client/', payload='i am client', qos=0, retain=False)"
   ]
  },
  {
   "cell_type": "code",
   "execution_count": 7,
   "metadata": {},
   "outputs": [
    {
     "data": {
      "text/plain": [
       "(0, 2)"
      ]
     },
     "execution_count": 7,
     "metadata": {},
     "output_type": "execute_result"
    }
   ],
   "source": [
    "# 订阅\n",
    "# subscribe(topic, qos=0)\n",
    "# subscribe((\"my/topic\", 1))\n",
    "# subscribe([(\"my/topic\", 0), (\"another/topic\", 2)])\n",
    "client.subscribe(('/mqtt/paho/python/client/sub', 0))"
   ]
  },
  {
   "cell_type": "code",
   "execution_count": 8,
   "metadata": {},
   "outputs": [
    {
     "name": "stdout",
     "output_type": "stream",
     "text": [
      "Connected with result code 0\n",
      "/mqtt/paho/python/client/sub b'i am server'\n",
      "/mqtt/paho/python/client/sub b'i am server'\n",
      "/mqtt/paho/python/client/sub b'i am server'\n",
      "/mqtt/paho/python/client/sub b'i am server'\n",
      "/mqtt/paho/python/client/sub b'i am server'\n",
      "/mqtt/paho/python/client/sub b'i am server'\n",
      "/mqtt/paho/python/client/sub b'i am server'\n"
     ]
    },
    {
     "ename": "KeyboardInterrupt",
     "evalue": "",
     "output_type": "error",
     "traceback": [
      "\u001b[0;31m---------------------------------------------------------------------------\u001b[0m",
      "\u001b[0;31mKeyboardInterrupt\u001b[0m                         Traceback (most recent call last)",
      "\u001b[0;32m<ipython-input-8-642879e2572f>\u001b[0m in \u001b[0;36m<module>\u001b[0;34m()\u001b[0m\n\u001b[1;32m      1\u001b[0m \u001b[0;31m# 网络循环\u001b[0m\u001b[0;34m\u001b[0m\u001b[0;34m\u001b[0m\u001b[0m\n\u001b[0;32m----> 2\u001b[0;31m \u001b[0mclient\u001b[0m\u001b[0;34m.\u001b[0m\u001b[0mloop_forever\u001b[0m\u001b[0;34m(\u001b[0m\u001b[0mtimeout\u001b[0m\u001b[0;34m=\u001b[0m\u001b[0;36m1.0\u001b[0m\u001b[0;34m,\u001b[0m \u001b[0mmax_packets\u001b[0m\u001b[0;34m=\u001b[0m\u001b[0;36m1\u001b[0m\u001b[0;34m)\u001b[0m\u001b[0;34m\u001b[0m\u001b[0m\n\u001b[0m",
      "\u001b[0;32m/Library/Frameworks/Python.framework/Versions/3.5/lib/python3.5/site-packages/paho/mqtt/client.py\u001b[0m in \u001b[0;36mloop_forever\u001b[0;34m(self, timeout, max_packets, retry_first_connection)\u001b[0m\n\u001b[1;32m   1468\u001b[0m             \u001b[0mrc\u001b[0m \u001b[0;34m=\u001b[0m \u001b[0mMQTT_ERR_SUCCESS\u001b[0m\u001b[0;34m\u001b[0m\u001b[0m\n\u001b[1;32m   1469\u001b[0m             \u001b[0;32mwhile\u001b[0m \u001b[0mrc\u001b[0m \u001b[0;34m==\u001b[0m \u001b[0mMQTT_ERR_SUCCESS\u001b[0m\u001b[0;34m:\u001b[0m\u001b[0;34m\u001b[0m\u001b[0m\n\u001b[0;32m-> 1470\u001b[0;31m                 \u001b[0mrc\u001b[0m \u001b[0;34m=\u001b[0m \u001b[0mself\u001b[0m\u001b[0;34m.\u001b[0m\u001b[0mloop\u001b[0m\u001b[0;34m(\u001b[0m\u001b[0mtimeout\u001b[0m\u001b[0;34m,\u001b[0m \u001b[0mmax_packets\u001b[0m\u001b[0;34m)\u001b[0m\u001b[0;34m\u001b[0m\u001b[0m\n\u001b[0m\u001b[1;32m   1471\u001b[0m                 \u001b[0;31m# We don't need to worry about locking here, because we've\u001b[0m\u001b[0;34m\u001b[0m\u001b[0;34m\u001b[0m\u001b[0m\n\u001b[1;32m   1472\u001b[0m                 \u001b[0;31m# either called loop_forever() when in single threaded mode, or\u001b[0m\u001b[0;34m\u001b[0m\u001b[0;34m\u001b[0m\u001b[0m\n",
      "\u001b[0;32m/Library/Frameworks/Python.framework/Versions/3.5/lib/python3.5/site-packages/paho/mqtt/client.py\u001b[0m in \u001b[0;36mloop\u001b[0;34m(self, timeout, max_packets)\u001b[0m\n\u001b[1;32m    978\u001b[0m         \u001b[0mrlist\u001b[0m \u001b[0;34m=\u001b[0m \u001b[0;34m[\u001b[0m\u001b[0mself\u001b[0m\u001b[0;34m.\u001b[0m\u001b[0m_sock\u001b[0m\u001b[0;34m,\u001b[0m \u001b[0mself\u001b[0m\u001b[0;34m.\u001b[0m\u001b[0m_sockpairR\u001b[0m\u001b[0;34m]\u001b[0m\u001b[0;34m\u001b[0m\u001b[0m\n\u001b[1;32m    979\u001b[0m         \u001b[0;32mtry\u001b[0m\u001b[0;34m:\u001b[0m\u001b[0;34m\u001b[0m\u001b[0m\n\u001b[0;32m--> 980\u001b[0;31m             \u001b[0msocklist\u001b[0m \u001b[0;34m=\u001b[0m \u001b[0mselect\u001b[0m\u001b[0;34m.\u001b[0m\u001b[0mselect\u001b[0m\u001b[0;34m(\u001b[0m\u001b[0mrlist\u001b[0m\u001b[0;34m,\u001b[0m \u001b[0mwlist\u001b[0m\u001b[0;34m,\u001b[0m \u001b[0;34m[\u001b[0m\u001b[0;34m]\u001b[0m\u001b[0;34m,\u001b[0m \u001b[0mtimeout\u001b[0m\u001b[0;34m)\u001b[0m\u001b[0;34m\u001b[0m\u001b[0m\n\u001b[0m\u001b[1;32m    981\u001b[0m         \u001b[0;32mexcept\u001b[0m \u001b[0mTypeError\u001b[0m\u001b[0;34m:\u001b[0m\u001b[0;34m\u001b[0m\u001b[0m\n\u001b[1;32m    982\u001b[0m             \u001b[0;31m# Socket isn't correct type, in likelihood connection is lost\u001b[0m\u001b[0;34m\u001b[0m\u001b[0;34m\u001b[0m\u001b[0m\n",
      "\u001b[0;31mKeyboardInterrupt\u001b[0m: "
     ]
    }
   ],
   "source": [
    "# 网络循环\n",
    "client.loop_forever(timeout=1.0, max_packets=1)"
   ]
  }
 ],
 "metadata": {
  "kernelspec": {
   "display_name": "Python 3",
   "language": "python",
   "name": "python3"
  },
  "language_info": {
   "codemirror_mode": {
    "name": "ipython",
    "version": 3
   },
   "file_extension": ".py",
   "mimetype": "text/x-python",
   "name": "python",
   "nbconvert_exporter": "python",
   "pygments_lexer": "ipython3",
   "version": "3.5.3"
  }
 },
 "nbformat": 4,
 "nbformat_minor": 2
}
