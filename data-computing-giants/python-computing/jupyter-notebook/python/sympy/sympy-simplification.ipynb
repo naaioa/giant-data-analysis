{
 "cells": [
  {
   "cell_type": "markdown",
   "metadata": {},
   "source": [
    "# 006 化简(simplification)\n",
    "\n",
    "    (1) sympy.simplify\n",
    "    (2) 多项式/有理函数化简\n",
    "    (3) 三角函数化简\n",
    "    (4) 幂\n",
    "    (5) 指数和对数\n",
    "    (6) 特殊函数\n",
    "    (7) 连分数展开式(continued fractions)\n",
    "\n"
   ]
  },
  {
   "cell_type": "code",
   "execution_count": 1,
   "metadata": {
    "collapsed": true
   },
   "outputs": [],
   "source": [
    "from sympy import *\n",
    "init_printing(use_unicode=True)"
   ]
  },
  {
   "cell_type": "code",
   "execution_count": 19,
   "metadata": {
    "collapsed": true
   },
   "outputs": [],
   "source": [
    "x, y = symbols('x y', positive=True)\n",
    "a, b, n = symbols('a b n', real=True)\n",
    "z, t, c = symbols('z t c') # 默认为复数"
   ]
  },
  {
   "cell_type": "markdown",
   "metadata": {},
   "source": [
    "## (1) sympy.simplify"
   ]
  },
  {
   "cell_type": "code",
   "execution_count": 3,
   "metadata": {},
   "outputs": [
    {
     "data": {
      "image/png": "[encoded data removed]",
      "text/latex": [
       "$$1$$"
      ],
      "text/plain": [
       "1"
      ]
     },
     "execution_count": 3,
     "metadata": {},
     "output_type": "execute_result"
    }
   ],
   "source": [
    "simplify(sin(x)**2 + cos(x)**2)"
   ]
  },
  {
   "cell_type": "code",
   "execution_count": 4,
   "metadata": {},
   "outputs": [
    {
     "data": {
      "image/png": "[encoded data removed]",
      "text/latex": [
       "$$x - 1$$"
      ],
      "text/plain": [
       "x - 1"
      ]
     },
     "execution_count": 4,
     "metadata": {},
     "output_type": "execute_result"
    }
   ],
   "source": [
    "simplify((x**3 + x**2 - x - 1) / (x**2 + 2*x + 1))"
   ]
  },
  {
   "cell_type": "code",
   "execution_count": 5,
   "metadata": {},
   "outputs": [
    {
     "data": {
      "image/png": "[encoded data removed]",
      "text/latex": [
       "$$\\left(x - 2\\right) \\left(x - 1\\right)$$"
      ],
      "text/plain": [
       "(x - 2)⋅(x - 1)"
      ]
     },
     "execution_count": 5,
     "metadata": {},
     "output_type": "execute_result"
    }
   ],
   "source": [
    "# Gamma function: https://en.wikipedia.org/wiki/Gamma_function\n",
    "simplify(gamma(x) / gamma(x-2))"
   ]
  },
  {
   "cell_type": "markdown",
   "metadata": {},
   "source": [
    "## (2) 多项式/有理函数化简"
   ]
  },
  {
   "cell_type": "code",
   "execution_count": 6,
   "metadata": {},
   "outputs": [
    {
     "data": {
      "image/png": "[encoded data removed]",
      "text/latex": [
       "$$x^{2} + 2 x + 1$$"
      ],
      "text/plain": [
       " 2          \n",
       "x  + 2⋅x + 1"
      ]
     },
     "execution_count": 6,
     "metadata": {},
     "output_type": "execute_result"
    }
   ],
   "source": [
    "# expand: 展开\n",
    "expand((x + 1) ** 2)"
   ]
  },
  {
   "cell_type": "code",
   "execution_count": 7,
   "metadata": {},
   "outputs": [
    {
     "data": {
      "image/png": "[encoded data removed]",
      "text/latex": [
       "$$x^{2} - x - 6$$"
      ],
      "text/plain": [
       " 2        \n",
       "x  - x - 6"
      ]
     },
     "execution_count": 7,
     "metadata": {},
     "output_type": "execute_result"
    }
   ],
   "source": [
    "expand((x + 2) * (x - 3))"
   ]
  },
  {
   "cell_type": "code",
   "execution_count": 8,
   "metadata": {},
   "outputs": [
    {
     "data": {
      "image/png": "[encoded data removed]",
      "text/latex": [
       "$$\\left(x - 1\\right) \\left(x^{2} + 1\\right)$$"
      ],
      "text/plain": [
       "        ⎛ 2    ⎞\n",
       "(x - 1)⋅⎝x  + 1⎠"
      ]
     },
     "execution_count": 8,
     "metadata": {},
     "output_type": "execute_result"
    }
   ],
   "source": [
    "# factor: 因子化, 与expand相反\n",
    "factor(x**3 - x**2 + x - 1)"
   ]
  },
  {
   "cell_type": "code",
   "execution_count": 9,
   "metadata": {},
   "outputs": [
    {
     "data": {
      "image/png": "[encoded data removed]",
      "text/latex": [
       "$$z \\left(x + 2 y\\right)^{2}$$"
      ],
      "text/plain": [
       "           2\n",
       "z⋅(x + 2⋅y) "
      ]
     },
     "execution_count": 9,
     "metadata": {},
     "output_type": "execute_result"
    }
   ],
   "source": [
    "factor(x**2 * z + 4*x*y*z + 4 * y**2 * z)"
   ]
  },
  {
   "cell_type": "code",
   "execution_count": 10,
   "metadata": {},
   "outputs": [
    {
     "data": {
      "image/png": "[encoded data removed]",
      "text/latex": [
       "$$\\left ( 1, \\quad \\left [ \\left ( z, \\quad 1\\right ), \\quad \\left ( x + 2 y, \\quad 2\\right )\\right ]\\right )$$"
      ],
      "text/plain": [
       "(1, [(z, 1), (x + 2⋅y, 2)])"
      ]
     },
     "execution_count": 10,
     "metadata": {},
     "output_type": "execute_result"
    }
   ],
   "source": [
    "# factor_list: 所有因子\n",
    "factor_list(x**2 * z + 4*x*y*z + 4 * y**2 * z)"
   ]
  },
  {
   "cell_type": "code",
   "execution_count": 11,
   "metadata": {},
   "outputs": [
    {
     "data": {
      "image/png": "[encoded data removed]",
      "text/latex": [
       "$$\\sin^{2}{\\left (x \\right )} + 2 \\sin{\\left (x \\right )} \\cos{\\left (x \\right )} + \\cos^{2}{\\left (x \\right )}$$"
      ],
      "text/plain": [
       "   2                           2   \n",
       "sin (x) + 2⋅sin(x)⋅cos(x) + cos (x)"
      ]
     },
     "execution_count": 11,
     "metadata": {},
     "output_type": "execute_result"
    }
   ],
   "source": [
    "# factor/expand的参数不一定是对象式\n",
    "expand((cos(x)+sin(x)) ** 2)"
   ]
  },
  {
   "cell_type": "code",
   "execution_count": 12,
   "metadata": {},
   "outputs": [
    {
     "data": {
      "image/png": "[encoded data removed]",
      "text/latex": [
       "$$\\left(\\sin{\\left (x \\right )} + \\cos{\\left (x \\right )}\\right)^{2}$$"
      ],
      "text/plain": [
       "                 2\n",
       "(sin(x) + cos(x)) "
      ]
     },
     "execution_count": 12,
     "metadata": {},
     "output_type": "execute_result"
    }
   ],
   "source": [
    "factor(sin(x)**2 + 2*sin(x)*cos(x) + cos(x)**2)"
   ]
  },
  {
   "cell_type": "code",
   "execution_count": 13,
   "metadata": {},
   "outputs": [
    {
     "data": {
      "image/png": "[encoded data removed]",
      "text/latex": [
       "$$x^{3} - x^{2} z + 2 x^{2} + x y + x - 3$$"
      ],
      "text/plain": [
       " 3    2        2              \n",
       "x  - x ⋅z + 2⋅x  + x⋅y + x - 3"
      ]
     },
     "execution_count": 13,
     "metadata": {},
     "output_type": "execute_result"
    }
   ],
   "source": [
    "# collect: 收集表达式中一项的公共幂\n",
    "expr = x*y + x - 3 + 2*x**2 - z*x**2 + x**3\n",
    "expr"
   ]
  },
  {
   "cell_type": "code",
   "execution_count": 14,
   "metadata": {},
   "outputs": [
    {
     "data": {
      "image/png": "[encoded data removed]",
      "text/latex": [
       "$$x^{3} + x^{2} \\left(- z + 2\\right) + x \\left(y + 1\\right) - 3$$"
      ],
      "text/plain": [
       " 3    2                         \n",
       "x  + x ⋅(-z + 2) + x⋅(y + 1) - 3"
      ]
     },
     "execution_count": 14,
     "metadata": {},
     "output_type": "execute_result"
    }
   ],
   "source": [
    "collected_expr = collect(expr, x) # 项为x\n",
    "collected_expr"
   ]
  },
  {
   "cell_type": "code",
   "execution_count": 15,
   "metadata": {},
   "outputs": [
    {
     "data": {
      "image/png": "[encoded data removed]",
      "text/latex": [
       "$$- z + 2$$"
      ],
      "text/plain": [
       "-z + 2"
      ]
     },
     "execution_count": 15,
     "metadata": {},
     "output_type": "execute_result"
    }
   ],
   "source": [
    "# 提取项幂的系数\n",
    "collected_expr.coeff(x, 2)"
   ]
  },
  {
   "cell_type": "code",
   "execution_count": 16,
   "metadata": {},
   "outputs": [
    {
     "data": {
      "image/png": "[encoded data removed]",
      "text/latex": [
       "$$\\frac{1}{x} \\left(x + 1\\right)$$"
      ],
      "text/plain": [
       "x + 1\n",
       "─────\n",
       "  x  "
      ]
     },
     "execution_count": 16,
     "metadata": {},
     "output_type": "execute_result"
    }
   ],
   "source": [
    "# cancel: 将任意有理函数转换为p/q的形式, p和q是没有公因子的展开多项式, p和q中多项式首系数是整数\n",
    "cancel((x**2 + 2*x + 1) / (x**2 + x))"
   ]
  },
  {
   "cell_type": "code",
   "execution_count": 17,
   "metadata": {},
   "outputs": [
    {
     "data": {
      "image/png": "[encoded data removed]",
      "text/latex": [
       "$$\\frac{\\frac{3 x}{2} - 2}{x - 4} + \\frac{1}{x}$$"
      ],
      "text/plain": [
       "3⋅x        \n",
       "─── - 2    \n",
       " 2        1\n",
       "─────── + ─\n",
       " x - 4    x"
      ]
     },
     "execution_count": 17,
     "metadata": {},
     "output_type": "execute_result"
    }
   ],
   "source": [
    "expr = 1/x + (3*x/2 - 2) / (x - 4)\n",
    "expr"
   ]
  },
  {
   "cell_type": "code",
   "execution_count": 18,
   "metadata": {},
   "outputs": [
    {
     "data": {
      "image/png": "[encoded data removed]",
      "text/latex": [
       "$$\\frac{3 x^{2} - 2 x - 8}{2 x^{2} - 8 x}$$"
      ],
      "text/plain": [
       "   2          \n",
       "3⋅x  - 2⋅x - 8\n",
       "──────────────\n",
       "     2        \n",
       "  2⋅x  - 8⋅x  "
      ]
     },
     "execution_count": 18,
     "metadata": {},
     "output_type": "execute_result"
    }
   ],
   "source": [
    "cancel(expr)"
   ]
  },
  {
   "cell_type": "code",
   "execution_count": 19,
   "metadata": {},
   "outputs": [
    {
     "data": {
      "image/png": "[encoded data removed]",
      "text/latex": [
       "$$\\frac{1}{x - 1} \\left(y^{2} - 2 y z + z^{2}\\right)$$"
      ],
      "text/plain": [
       " 2            2\n",
       "y  - 2⋅y⋅z + z \n",
       "───────────────\n",
       "     x - 1     "
      ]
     },
     "execution_count": 19,
     "metadata": {},
     "output_type": "execute_result"
    }
   ],
   "source": [
    "# cancel后表达式不一定是最简的\n",
    "expr = (x*y**2 - 2*x*y*z + x*z**2 + y**2 - 2*y*z + z**2)/(x**2 - 1)\n",
    "cancel(expr)"
   ]
  },
  {
   "cell_type": "code",
   "execution_count": 20,
   "metadata": {},
   "outputs": [
    {
     "data": {
      "image/png": "[encoded data removed]",
      "text/latex": [
       "$$\\frac{\\left(y - z\\right)^{2}}{x - 1}$$"
      ],
      "text/plain": [
       "       2\n",
       "(y - z) \n",
       "────────\n",
       " x - 1  "
      ]
     },
     "execution_count": 20,
     "metadata": {},
     "output_type": "execute_result"
    }
   ],
   "source": [
    "factor(expr)"
   ]
  },
  {
   "cell_type": "code",
   "execution_count": 21,
   "metadata": {},
   "outputs": [
    {
     "data": {
      "image/png": "[encoded data removed]",
      "text/latex": [
       "$$\\frac{4 x^{3} + 21 x^{2} + 10 x + 12}{x^{4} + 5 x^{3} + 5 x^{2} + 4 x}$$"
      ],
      "text/plain": [
       "   3       2            \n",
       "4⋅x  + 21⋅x  + 10⋅x + 12\n",
       "────────────────────────\n",
       "  4      3      2       \n",
       " x  + 5⋅x  + 5⋅x  + 4⋅x "
      ]
     },
     "execution_count": 21,
     "metadata": {},
     "output_type": "execute_result"
    }
   ],
   "source": [
    "# apart: 部分分数展开, https://en.wikipedia.org/wiki/Partial_fraction_decomposition\n",
    "expr = (4*x**3 + 21*x**2 + 10*x + 12)/(x**4 + 5*x**3 + 5*x**2 + 4*x)\n",
    "expr"
   ]
  },
  {
   "cell_type": "code",
   "execution_count": 22,
   "metadata": {},
   "outputs": [
    {
     "data": {
      "image/png": "[encoded data removed]",
      "text/latex": [
       "$$\\frac{2 x - 1}{x^{2} + x + 1} - \\frac{1}{x + 4} + \\frac{3}{x}$$"
      ],
      "text/plain": [
       " 2⋅x - 1       1     3\n",
       "────────── - ───── + ─\n",
       " 2           x + 4   x\n",
       "x  + x + 1            "
      ]
     },
     "execution_count": 22,
     "metadata": {},
     "output_type": "execute_result"
    }
   ],
   "source": [
    "apart(expr)"
   ]
  },
  {
   "cell_type": "markdown",
   "metadata": {},
   "source": [
    "## (3) 三角函数化简"
   ]
  },
  {
   "cell_type": "code",
   "execution_count": 23,
   "metadata": {},
   "outputs": [
    {
     "name": "stdout",
     "output_type": "stream",
     "text": [
      "acos(x)\n",
      "x\n",
      "pi/2\n"
     ]
    }
   ],
   "source": [
    "print(acos(x))\n",
    "print(cos(acos(x)))\n",
    "print(asin(1))"
   ]
  },
  {
   "cell_type": "code",
   "execution_count": 24,
   "metadata": {},
   "outputs": [
    {
     "data": {
      "image/png": "[encoded data removed]",
      "text/latex": [
       "$$1$$"
      ],
      "text/plain": [
       "1"
      ]
     },
     "execution_count": 24,
     "metadata": {},
     "output_type": "execute_result"
    }
   ],
   "source": [
    "# trigsimp: 使用三角恒等式化简\n",
    "trigsimp(sin(x)**2 + cos(x)**2)"
   ]
  },
  {
   "cell_type": "code",
   "execution_count": 25,
   "metadata": {},
   "outputs": [
    {
     "data": {
      "image/png": "[encoded data removed]",
      "text/latex": [
       "$$\\frac{1}{2} \\cos{\\left (4 x \\right )} + \\frac{1}{2}$$"
      ],
      "text/plain": [
       "cos(4⋅x)   1\n",
       "──────── + ─\n",
       "   2       2"
      ]
     },
     "execution_count": 25,
     "metadata": {},
     "output_type": "execute_result"
    }
   ],
   "source": [
    "trigsimp(sin(x)**4 - 2 * cos(x)**2 * sin(x)**2 + cos(x)**4)"
   ]
  },
  {
   "cell_type": "code",
   "execution_count": 26,
   "metadata": {},
   "outputs": [
    {
     "data": {
      "image/png": "[encoded data removed]",
      "text/latex": [
       "$$\\sin^{2}{\\left (x \\right )}$$"
      ],
      "text/plain": [
       "   2   \n",
       "sin (x)"
      ]
     },
     "execution_count": 26,
     "metadata": {},
     "output_type": "execute_result"
    }
   ],
   "source": [
    "trigsimp(sin(x)*tan(x)/sec(x))"
   ]
  },
  {
   "cell_type": "code",
   "execution_count": 27,
   "metadata": {},
   "outputs": [
    {
     "data": {
      "image/png": "[encoded data removed]",
      "text/latex": [
       "$$\\cosh{\\left (2 x \\right )}$$"
      ],
      "text/plain": [
       "cosh(2⋅x)"
      ]
     },
     "execution_count": 27,
     "metadata": {},
     "output_type": "execute_result"
    }
   ],
   "source": [
    "# 双曲三角函数\n",
    "trigsimp(cosh(x)**2 + sinh(x)**2)"
   ]
  },
  {
   "cell_type": "code",
   "execution_count": 28,
   "metadata": {},
   "outputs": [
    {
     "data": {
      "image/png": "[encoded data removed]",
      "text/latex": [
       "$$\\cosh{\\left (x \\right )}$$"
      ],
      "text/plain": [
       "cosh(x)"
      ]
     },
     "execution_count": 28,
     "metadata": {},
     "output_type": "execute_result"
    }
   ],
   "source": [
    "trigsimp(sinh(x)/tanh(x))"
   ]
  },
  {
   "cell_type": "code",
   "execution_count": 29,
   "metadata": {},
   "outputs": [
    {
     "data": {
      "image/png": "[encoded data removed]",
      "text/latex": [
       "$$\\sin{\\left (x \\right )} \\cos{\\left (y \\right )} + \\sin{\\left (y \\right )} \\cos{\\left (x \\right )}$$"
      ],
      "text/plain": [
       "sin(x)⋅cos(y) + sin(y)⋅cos(x)"
      ]
     },
     "execution_count": 29,
     "metadata": {},
     "output_type": "execute_result"
    }
   ],
   "source": [
    "# expand_trig: 展开三角函数, 与trigsimp相反\n",
    "expand_trig(sin(x + y))"
   ]
  },
  {
   "cell_type": "code",
   "execution_count": 30,
   "metadata": {},
   "outputs": [
    {
     "data": {
      "image/png": "[encoded data removed]",
      "text/latex": [
       "$$\\frac{2 \\tan{\\left (x \\right )}}{- \\tan^{2}{\\left (x \\right )} + 1}$$"
      ],
      "text/plain": [
       "   2⋅tan(x)  \n",
       "─────────────\n",
       "     2       \n",
       "- tan (x) + 1"
      ]
     },
     "execution_count": 30,
     "metadata": {},
     "output_type": "execute_result"
    }
   ],
   "source": [
    "expand_trig(tan(2*x))"
   ]
  },
  {
   "cell_type": "markdown",
   "metadata": {},
   "source": [
    "## (4) 幂"
   ]
  },
  {
   "cell_type": "code",
   "execution_count": 31,
   "metadata": {},
   "outputs": [
    {
     "data": {
      "image/png": "[encoded data removed]",
      "text/latex": [
       "$$x^{a} x^{b} = x^{a + b}$$"
      ],
      "text/plain": [
       " a  b    a + b\n",
       "x ⋅x  = x     "
      ]
     },
     "execution_count": 31,
     "metadata": {},
     "output_type": "execute_result"
    }
   ],
   "source": [
    "# 等式1: 总为真\n",
    "Eq(x**a * x**b, x**(a+b))"
   ]
  },
  {
   "cell_type": "code",
   "execution_count": 32,
   "metadata": {},
   "outputs": [
    {
     "data": {
      "image/png": "[encoded data removed]",
      "text/latex": [
       "$$x^{a} y^{a} = \\left(x y\\right)^{a}$$"
      ],
      "text/plain": [
       " a  a        a\n",
       "x ⋅y  = (x⋅y) "
      ]
     },
     "execution_count": 32,
     "metadata": {},
     "output_type": "execute_result"
    }
   ],
   "source": [
    "# 等式2: 限制为x,y >= 0, a为实数\n",
    "Eq(x**a * y**a, (x*y)**a)"
   ]
  },
  {
   "cell_type": "code",
   "execution_count": 33,
   "metadata": {},
   "outputs": [
    {
     "data": {
      "text/plain": [
       "((-1+1.2246467991473532e-16j), 1.0)"
      ]
     },
     "execution_count": 33,
     "metadata": {},
     "output_type": "execute_result"
    }
   ],
   "source": [
    "(-1)**(1/2) * (-1)**(1/2), (-1 * -1)**(1/2) # 反例"
   ]
  },
  {
   "cell_type": "code",
   "execution_count": 34,
   "metadata": {},
   "outputs": [
    {
     "data": {
      "image/png": "[encoded data removed]",
      "text/latex": [
       "$$\\mathrm{True}$$"
      ],
      "text/plain": [
       "True"
      ]
     },
     "execution_count": 34,
     "metadata": {},
     "output_type": "execute_result"
    }
   ],
   "source": [
    "# 等式3: 限制为b为整数; \n",
    "Eq((x**a)**b, x**(a*b))"
   ]
  },
  {
   "cell_type": "code",
   "execution_count": 35,
   "metadata": {},
   "outputs": [
    {
     "data": {
      "image/png": "[encoded data removed]",
      "text/latex": [
       "$$\\left ( 1.0, \\quad -1.0\\right )$$"
      ],
      "text/plain": [
       "(1.0, -1.0)"
      ]
     },
     "execution_count": 35,
     "metadata": {},
     "output_type": "execute_result"
    }
   ],
   "source": [
    "((-1)**2)**(1/2), (-1)**(2 * 1/2)  # 反例"
   ]
  },
  {
   "cell_type": "code",
   "execution_count": 36,
   "metadata": {},
   "outputs": [
    {
     "data": {
      "image/png": "[encoded data removed]",
      "text/latex": [
       "$$x^{a + b}$$"
      ],
      "text/plain": [
       " a + b\n",
       "x     "
      ]
     },
     "execution_count": 36,
     "metadata": {},
     "output_type": "execute_result"
    }
   ],
   "source": [
    "# powsimp\n",
    "powsimp(x**a * x**b)"
   ]
  },
  {
   "cell_type": "code",
   "execution_count": 37,
   "metadata": {},
   "outputs": [
    {
     "data": {
      "image/png": "[encoded data removed]",
      "text/latex": [
       "$$t^{c} z^{c}$$"
      ],
      "text/plain": [
       " c  c\n",
       "t ⋅z "
      ]
     },
     "execution_count": 37,
     "metadata": {},
     "output_type": "execute_result"
    }
   ],
   "source": [
    "powsimp(t**c * z**c)"
   ]
  },
  {
   "cell_type": "code",
   "execution_count": 38,
   "metadata": {},
   "outputs": [
    {
     "data": {
      "image/png": "[encoded data removed]",
      "text/latex": [
       "$$\\left(t z\\right)^{c}$$"
      ],
      "text/plain": [
       "     c\n",
       "(t⋅z) "
      ]
     },
     "execution_count": 38,
     "metadata": {},
     "output_type": "execute_result"
    }
   ],
   "source": [
    "powsimp(t**c * z**c, force=True)"
   ]
  },
  {
   "cell_type": "code",
   "execution_count": 39,
   "metadata": {},
   "outputs": [
    {
     "data": {
      "image/png": "[encoded data removed]",
      "text/latex": [
       "$$x^{a} x^{b}$$"
      ],
      "text/plain": [
       " a  b\n",
       "x ⋅x "
      ]
     },
     "execution_count": 39,
     "metadata": {},
     "output_type": "execute_result"
    }
   ],
   "source": [
    "# expand_power_exp/expand_power_base: 展开指数/展开基数\n",
    "expand_power_exp(x ** (a+b))"
   ]
  },
  {
   "cell_type": "code",
   "execution_count": 40,
   "metadata": {},
   "outputs": [
    {
     "data": {
      "image/png": "[encoded data removed]",
      "text/latex": [
       "$$x^{a} y^{a}$$"
      ],
      "text/plain": [
       " a  a\n",
       "x ⋅y "
      ]
     },
     "execution_count": 40,
     "metadata": {},
     "output_type": "execute_result"
    }
   ],
   "source": [
    "expand_power_base((x*y) ** a)"
   ]
  },
  {
   "cell_type": "code",
   "execution_count": 41,
   "metadata": {},
   "outputs": [
    {
     "data": {
      "image/png": "[encoded data removed]",
      "text/latex": [
       "$$x^{a} y^{a}$$"
      ],
      "text/plain": [
       " a  a\n",
       "x ⋅y "
      ]
     },
     "execution_count": 41,
     "metadata": {},
     "output_type": "execute_result"
    }
   ],
   "source": [
    "expand_power_base((x*y) ** a, force=True)"
   ]
  },
  {
   "cell_type": "code",
   "execution_count": 42,
   "metadata": {},
   "outputs": [
    {
     "data": {
      "image/png": "[encoded data removed]",
      "text/latex": [
       "$$x^{a b}$$"
      ],
      "text/plain": [
       " a⋅b\n",
       "x   "
      ]
     },
     "execution_count": 42,
     "metadata": {},
     "output_type": "execute_result"
    }
   ],
   "source": [
    "# powdenest: 嵌套的幂\n",
    "powdenest((x**a)**b)"
   ]
  },
  {
   "cell_type": "code",
   "execution_count": 43,
   "metadata": {},
   "outputs": [
    {
     "data": {
      "image/png": "[encoded data removed]",
      "text/latex": [
       "$$\\left(z^{a}\\right)^{b}$$"
      ],
      "text/plain": [
       "    b\n",
       "⎛ a⎞ \n",
       "⎝z ⎠ "
      ]
     },
     "execution_count": 43,
     "metadata": {},
     "output_type": "execute_result"
    }
   ],
   "source": [
    "powdenest((z**a)**b)"
   ]
  },
  {
   "cell_type": "code",
   "execution_count": 44,
   "metadata": {},
   "outputs": [
    {
     "data": {
      "image/png": "[encoded data removed]",
      "text/latex": [
       "$$z^{a b}$$"
      ],
      "text/plain": [
       " a⋅b\n",
       "z   "
      ]
     },
     "execution_count": 44,
     "metadata": {},
     "output_type": "execute_result"
    }
   ],
   "source": [
    "powdenest((z**a)**b, force=True)"
   ]
  },
  {
   "cell_type": "markdown",
   "metadata": {
    "collapsed": true
   },
   "source": [
    "## (5) 指数和对数"
   ]
  },
  {
   "cell_type": "code",
   "execution_count": 3,
   "metadata": {},
   "outputs": [
    {
     "data": {
      "image/png": "[encoded data removed]",
      "text/latex": [
       "$$\\log{\\left (x \\right )}$$"
      ],
      "text/plain": [
       "log(x)"
      ]
     },
     "execution_count": 3,
     "metadata": {},
     "output_type": "execute_result"
    }
   ],
   "source": [
    "ln(x)"
   ]
  },
  {
   "cell_type": "code",
   "execution_count": 13,
   "metadata": {},
   "outputs": [
    {
     "data": {
      "image/png": "[encoded data removed]",
      "text/latex": [
       "$$\\log{\\left (x y \\right )} = \\log{\\left (x \\right )} + \\log{\\left (y \\right )}$$"
      ],
      "text/plain": [
       "log(x⋅y) = log(x) + log(y)"
      ]
     },
     "execution_count": 13,
     "metadata": {},
     "output_type": "execute_result"
    }
   ],
   "source": [
    "# 等式1: 对复数不成立, x,y均为正数\n",
    "Eq(log(x*y), log(x) + log(y)) # 对复数不成立"
   ]
  },
  {
   "cell_type": "code",
   "execution_count": 12,
   "metadata": {},
   "outputs": [
    {
     "data": {
      "image/png": "[encoded data removed]",
      "text/latex": [
       "$$\\log{\\left (x^{n} \\right )} = n \\log{\\left (x \\right )}$$"
      ],
      "text/plain": [
       "   ⎛ n⎞           \n",
       "log⎝x ⎠ = n⋅log(x)"
      ]
     },
     "execution_count": 12,
     "metadata": {},
     "output_type": "execute_result"
    }
   ],
   "source": [
    "# 等式2: 对复数不成立, x > 0, n为实数\n",
    "Eq(log(x**n), n*log(x))"
   ]
  },
  {
   "cell_type": "code",
   "execution_count": 11,
   "metadata": {},
   "outputs": [
    {
     "data": {
      "image/png": "[encoded data removed]",
      "text/latex": [
       "$$\\log{\\left (x \\right )} + \\log{\\left (y \\right )}$$"
      ],
      "text/plain": [
       "log(x) + log(y)"
      ]
     },
     "execution_count": 11,
     "metadata": {},
     "output_type": "execute_result"
    }
   ],
   "source": [
    "# expand_log: 展开\n",
    "expand_log(log(x*y))"
   ]
  },
  {
   "cell_type": "code",
   "execution_count": 14,
   "metadata": {},
   "outputs": [
    {
     "data": {
      "image/png": "[encoded data removed]",
      "text/latex": [
       "$$\\log{\\left (z^{2} \\right )}$$"
      ],
      "text/plain": [
       "   ⎛ 2⎞\n",
       "log⎝z ⎠"
      ]
     },
     "execution_count": 14,
     "metadata": {},
     "output_type": "execute_result"
    }
   ],
   "source": [
    "expand_log(log(z**2))"
   ]
  },
  {
   "cell_type": "code",
   "execution_count": 15,
   "metadata": {},
   "outputs": [
    {
     "data": {
      "image/png": "[encoded data removed]",
      "text/latex": [
       "$$2 \\log{\\left (z \\right )}$$"
      ],
      "text/plain": [
       "2⋅log(z)"
      ]
     },
     "execution_count": 15,
     "metadata": {},
     "output_type": "execute_result"
    }
   ],
   "source": [
    "expand_log(log(z**2), force=True)"
   ]
  },
  {
   "cell_type": "code",
   "execution_count": 16,
   "metadata": {},
   "outputs": [
    {
     "data": {
      "image/png": "[encoded data removed]",
      "text/latex": [
       "$$\\log{\\left (x y \\right )}$$"
      ],
      "text/plain": [
       "log(x⋅y)"
      ]
     },
     "execution_count": 16,
     "metadata": {},
     "output_type": "execute_result"
    }
   ],
   "source": [
    "# logcombine: 合并\n",
    "logcombine(log(x) + log(y))"
   ]
  },
  {
   "cell_type": "code",
   "execution_count": 20,
   "metadata": {},
   "outputs": [
    {
     "data": {
      "image/png": "[encoded data removed]",
      "text/latex": [
       "$$n \\log{\\left (z \\right )}$$"
      ],
      "text/plain": [
       "n⋅log(z)"
      ]
     },
     "execution_count": 20,
     "metadata": {},
     "output_type": "execute_result"
    }
   ],
   "source": [
    "logcombine(n*log(z))"
   ]
  },
  {
   "cell_type": "code",
   "execution_count": 21,
   "metadata": {},
   "outputs": [
    {
     "data": {
      "image/png": "[encoded data removed]",
      "text/latex": [
       "$$\\log{\\left (z^{n} \\right )}$$"
      ],
      "text/plain": [
       "   ⎛ n⎞\n",
       "log⎝z ⎠"
      ]
     },
     "execution_count": 21,
     "metadata": {},
     "output_type": "execute_result"
    }
   ],
   "source": [
    "logcombine(n*log(z), force=True)"
   ]
  },
  {
   "cell_type": "markdown",
   "metadata": {},
   "source": [
    "## (6) 特殊函数"
   ]
  },
  {
   "cell_type": "code",
   "execution_count": 22,
   "metadata": {
    "collapsed": true
   },
   "outputs": [],
   "source": [
    "x,y,z = symbols('x y z')\n",
    "k,m,n = symbols('k m n')"
   ]
  },
  {
   "cell_type": "code",
   "execution_count": 23,
   "metadata": {},
   "outputs": [
    {
     "data": {
      "image/png": "[encoded data removed]",
      "text/latex": [
       "$$n!$$"
      ],
      "text/plain": [
       "n!"
      ]
     },
     "execution_count": 23,
     "metadata": {},
     "output_type": "execute_result"
    }
   ],
   "source": [
    "# 阶乘: https://en.wikipedia.org/wiki/Factorial\n",
    "factorial(n)"
   ]
  },
  {
   "cell_type": "code",
   "execution_count": 24,
   "metadata": {},
   "outputs": [
    {
     "data": {
      "image/png": "[encoded data removed]",
      "text/latex": [
       "$${\\binom{n}{k}}$$"
      ],
      "text/plain": [
       "⎛n⎞\n",
       "⎜ ⎟\n",
       "⎝k⎠"
      ]
     },
     "execution_count": 24,
     "metadata": {},
     "output_type": "execute_result"
    }
   ],
   "source": [
    "# 二项系数: https://en.wikipedia.org/wiki/Binomial_coefficient\n",
    "binomial(n, k)"
   ]
  },
  {
   "cell_type": "code",
   "execution_count": 25,
   "metadata": {},
   "outputs": [
    {
     "data": {
      "image/png": "[encoded data removed]",
      "text/latex": [
       "$$\\Gamma{\\left(z \\right)}$$"
      ],
      "text/plain": [
       "Γ(z)"
      ]
     },
     "execution_count": 25,
     "metadata": {},
     "output_type": "execute_result"
    }
   ],
   "source": [
    "# gamma函数: https://en.wikipedia.org/wiki/Gamma_function\n",
    "gamma(z)"
   ]
  },
  {
   "cell_type": "code",
   "execution_count": 26,
   "metadata": {},
   "outputs": [
    {
     "data": {
      "image/png": "[encoded data removed]",
      "text/latex": [
       "$${{}_{2}F_{1}\\left(\\begin{matrix} 1, 2 \\\\ 3 \\end{matrix}\\middle| {z} \\right)}$$"
      ],
      "text/plain": [
       " ┌─  ⎛1, 2 │  ⎞\n",
       " ├─  ⎜     │ z⎟\n",
       "2╵ 1 ⎝ 3   │  ⎠"
      ]
     },
     "execution_count": 26,
     "metadata": {},
     "output_type": "execute_result"
    }
   ],
   "source": [
    "# (广义)超几何函数: https://en.wikipedia.org/wiki/Generalized_hypergeometric_function\n",
    "hyper([1,2], [3], z)"
   ]
  },
  {
   "cell_type": "code",
   "execution_count": 27,
   "metadata": {},
   "outputs": [
    {
     "data": {
      "image/png": "[encoded data removed]",
      "text/latex": [
       "$$\\frac{2 \\sin^{2}{\\left (x \\right )}}{\\sin{\\left (2 x \\right )}}$$"
      ],
      "text/plain": [
       "     2   \n",
       "2⋅sin (x)\n",
       "─────────\n",
       " sin(2⋅x)"
      ]
     },
     "execution_count": 27,
     "metadata": {},
     "output_type": "execute_result"
    }
   ],
   "source": [
    "# rewrite: 函数重写\n",
    "tan(x).rewrite(sin)"
   ]
  },
  {
   "cell_type": "code",
   "execution_count": 28,
   "metadata": {},
   "outputs": [
    {
     "data": {
      "image/png": "[encoded data removed]",
      "text/latex": [
       "$$\\Gamma{\\left(x + 1 \\right)}$$"
      ],
      "text/plain": [
       "Γ(x + 1)"
      ]
     },
     "execution_count": 28,
     "metadata": {},
     "output_type": "execute_result"
    }
   ],
   "source": [
    "factorial(x).rewrite(gamma)"
   ]
  },
  {
   "cell_type": "code",
   "execution_count": 29,
   "metadata": {},
   "outputs": [
    {
     "data": {
      "image/png": "[encoded data removed]",
      "text/latex": [
       "$$x \\left(x + 1\\right) \\left(x + 2\\right) \\Gamma{\\left(x \\right)}$$"
      ],
      "text/plain": [
       "x⋅(x + 1)⋅(x + 2)⋅Γ(x)"
      ]
     },
     "execution_count": 29,
     "metadata": {},
     "output_type": "execute_result"
    }
   ],
   "source": [
    "# expand_func: 展开特殊函数\n",
    "expand_func(gamma(x+3))"
   ]
  },
  {
   "cell_type": "code",
   "execution_count": 31,
   "metadata": {},
   "outputs": [
    {
     "data": {
      "image/png": "[encoded data removed]",
      "text/latex": [
       "$$- \\frac{1}{z} \\log{\\left (- z + 1 \\right )}$$"
      ],
      "text/plain": [
       "-log(-z + 1) \n",
       "─────────────\n",
       "      z      "
      ]
     },
     "execution_count": 31,
     "metadata": {},
     "output_type": "execute_result"
    }
   ],
   "source": [
    "# hyperexapnd: 超几何函数展开\n",
    "hyperexpand(hyper([1,1],[2], z))"
   ]
  },
  {
   "cell_type": "code",
   "execution_count": 32,
   "metadata": {},
   "outputs": [
    {
     "data": {
      "image/png": "[encoded data removed]",
      "text/latex": [
       "$$n \\left(n - 2\\right) \\left(n - 1\\right)$$"
      ],
      "text/plain": [
       "n⋅(n - 2)⋅(n - 1)"
      ]
     },
     "execution_count": 32,
     "metadata": {},
     "output_type": "execute_result"
    }
   ],
   "source": [
    "# combsimp: 化简组合表达式(combinatorial expressions)\n",
    "combsimp(factorial(n)/factorial(n-3))"
   ]
  },
  {
   "cell_type": "code",
   "execution_count": 34,
   "metadata": {},
   "outputs": [
    {
     "data": {
      "image/png": "[encoded data removed]",
      "text/latex": [
       "$$\\frac{\\pi}{\\sin{\\left (\\pi x \\right )}}$$"
      ],
      "text/plain": [
       "   π    \n",
       "────────\n",
       "sin(π⋅x)"
      ]
     },
     "execution_count": 34,
     "metadata": {},
     "output_type": "execute_result"
    }
   ],
   "source": [
    "combsimp(gamma(x) * gamma(1-x))"
   ]
  },
  {
   "cell_type": "markdown",
   "metadata": {},
   "source": [
    "## (7) 连分数展开式(continued fractions)"
   ]
  },
  {
   "cell_type": "code",
   "execution_count": 35,
   "metadata": {
    "collapsed": true
   },
   "outputs": [],
   "source": [
    "def list_to_frac(l):\n",
    "    expr = Integer(0)\n",
    "    for i in reversed(l[1:]):\n",
    "        expr += i\n",
    "        expr = 1/expr\n",
    "    return l[0]+expr"
   ]
  },
  {
   "cell_type": "code",
   "execution_count": 36,
   "metadata": {
    "collapsed": true
   },
   "outputs": [],
   "source": [
    "a0,a1,a2,a3,a4 = symbols('a0:5')"
   ]
  },
  {
   "cell_type": "code",
   "execution_count": 38,
   "metadata": {},
   "outputs": [
    {
     "data": {
      "image/png": "[encoded data removed]",
      "text/latex": [
       "$$a_{0} + \\frac{1}{a_{1} + \\frac{1}{a_{2} + \\frac{1}{a_{3} + \\frac{1}{a_{4}}}}}$$"
      ],
      "text/plain": [
       "             1        \n",
       "a₀ + ─────────────────\n",
       "               1      \n",
       "     a₁ + ────────────\n",
       "                  1   \n",
       "          a₂ + ───────\n",
       "                    1 \n",
       "               a₃ + ──\n",
       "                    a₄"
      ]
     },
     "execution_count": 38,
     "metadata": {},
     "output_type": "execute_result"
    }
   ],
   "source": [
    "list_to_frac([a0,a1,a2,a3,a4])"
   ]
  },
  {
   "cell_type": "code",
   "execution_count": null,
   "metadata": {
    "collapsed": true
   },
   "outputs": [],
   "source": []
  }
 ],
 "metadata": {
  "kernelspec": {
   "display_name": "Python 3",
   "language": "python",
   "name": "python3"
  },
  "language_info": {
   "codemirror_mode": {
    "name": "ipython",
    "version": 3
   },
   "file_extension": ".py",
   "mimetype": "text/x-python",
   "name": "python",
   "nbconvert_exporter": "python",
   "pygments_lexer": "ipython3",
   "version": "3.5.3"
  }
 },
 "nbformat": 4,
 "nbformat_minor": 2
}
