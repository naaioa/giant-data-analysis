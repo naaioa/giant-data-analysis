{
 "cells": [
  {
   "cell_type": "code",
   "execution_count": 1,
   "metadata": {},
   "outputs": [
    {
     "data": {
      "text/html": [
       "<div class=\"krn-spql\"><div class=\"magic\">Endpoint set to: http://192.168.56.110:10035/repositories/demo-sparql</div></div>"
      ],
      "text/plain": [
       "Endpoint set to: http://192.168.56.110:10035/repositories/demo-sparql\n"
      ]
     },
     "metadata": {},
     "output_type": "display_data"
    }
   ],
   "source": [
    "%endpoint http://192.168.56.110:10035/repositories/demo-sparql"
   ]
  },
  {
   "cell_type": "code",
   "execution_count": 2,
   "metadata": {},
   "outputs": [
    {
     "data": {
      "text/html": [
       "<div class=\"krn-spql\"><div class=\"magic\">HTTP authentication: ['basic', 'zhoujiagen', 'zhoujiagen']</div></div>"
      ],
      "text/plain": [
       "HTTP authentication: ['basic', 'zhoujiagen', 'zhoujiagen']\n"
      ]
     },
     "metadata": {},
     "output_type": "display_data"
    }
   ],
   "source": [
    "%auth basic zhoujiagen zhoujiagen"
   ]
  },
  {
   "cell_type": "code",
   "execution_count": 3,
   "metadata": {},
   "outputs": [
    {
     "data": {
      "text/html": [
       "<div class=\"krn-spql\"><table><tr class=hdr><th>nameX</th>\n",
       "<th>nameY</th>\n",
       "<th>nickY</th></tr><tr class=odd><td class=val>Alice</td>\n",
       "<td class=val>Clare</td>\n",
       "<td class=val>CT</td></tr><tr class=even><td class=val>Alice</td>\n",
       "<td class=val>Bob</td>\n",
       "<td class=val></td></tr></table><div class=\"tinfo\">Total: 2, Shown: 2</div></div>"
      ]
     },
     "metadata": {},
     "output_type": "display_data"
    }
   ],
   "source": [
    "PREFIX foaf:    <http://xmlns.com/foaf/0.1/>\n",
    "SELECT ?nameX ?nameY ?nickY\n",
    "WHERE\n",
    "  { ?x foaf:knows ?y ;\n",
    "       foaf:name ?nameX .\n",
    "    ?y foaf:name ?nameY .\n",
    "    OPTIONAL { ?y foaf:nick ?nickY }\n",
    "  }"
   ]
  },
  {
   "cell_type": "code",
   "execution_count": null,
   "metadata": {},
   "outputs": [],
   "source": []
  }
 ],
 "metadata": {
  "kernelspec": {
   "display_name": "SPARQL",
   "language": "sparql",
   "name": "sparql"
  },
  "language_info": {
   "codemirror_mode": {
    "name": "sparql"
   },
   "mimetype": "application/sparql-query",
   "name": "sparql",
   "pygments_lexer": "sparql-nb"
  }
 },
 "nbformat": 4,
 "nbformat_minor": 2
}
